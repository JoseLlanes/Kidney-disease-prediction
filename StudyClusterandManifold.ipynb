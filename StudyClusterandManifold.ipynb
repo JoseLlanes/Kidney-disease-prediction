{
 "cells": [
  {
   "cell_type": "code",
   "execution_count": 56,
   "id": "c7a7ed19",
   "metadata": {},
   "outputs": [],
   "source": [
    "# ### Basics\n",
    "import numpy as np\n",
    "import pandas as pd\n",
    "import seaborn as sns\n",
    "import matplotlib.pyplot as plt\n",
    "import warnings\n",
    "import re\n",
    "import random\n",
    "\n",
    "# ### Statistics\n",
    "import scipy.stats as sc_stats\n",
    "from scipy.cluster import hierarchy\n",
    "from scipy.cluster.hierarchy import linkage, fcluster\n",
    "\n",
    "# ### Cluster ###\n",
    "from sklearn import cluster\n",
    "\n",
    "# ### Machine Learning\n",
    "from sklearn.model_selection import train_test_split, GridSearchCV\n",
    "from sklearn.preprocessing import MinMaxScaler, StandardScaler\n",
    "\n",
    "# ### Methods for classification\n",
    "import sklearn.metrics as sk_metrics \n",
    "\n",
    "# ### Model selection\n",
    "from sklearn.model_selection import RepeatedKFold, RepeatedStratifiedKFold\n",
    "\n",
    "# ### Methods for regression\n",
    "from sklearn.linear_model import LinearRegression, LogisticRegression\n",
    "from sklearn.ensemble import RandomForestClassifier, ExtraTreesClassifier\n",
    "\n",
    "# ### Manifold methods\n",
    "from sklearn.decomposition import PCA\n",
    "import sklearn.manifold as sk_manifold\n",
    "\n",
    "# ### For feature selection\n",
    "from mlxtend.feature_selection import SequentialFeatureSelector as SFS\n",
    "\n",
    "warnings.filterwarnings('ignore')\n",
    "\n",
    "import utils as ute\n",
    "import ml_utils as mlute"
   ]
  },
  {
   "cell_type": "code",
   "execution_count": 2,
   "id": "15aa7b3d",
   "metadata": {},
   "outputs": [],
   "source": [
    "pvalue_th = 0.05\n",
    "seed_th = 0"
   ]
  },
  {
   "cell_type": "code",
   "execution_count": 3,
   "id": "7c20d478",
   "metadata": {},
   "outputs": [
    {
     "name": "stdout",
     "output_type": "stream",
     "text": [
      "Columns name Index(['id', 'age', 'bp', 'sg', 'al', 'su', 'rbc', 'pc', 'pcc', 'ba', 'bgr',\n",
      "       'bu', 'sc', 'sod', 'pot', 'hemo', 'pcv', 'wc', 'rc', 'htn', 'dm', 'cad',\n",
      "       'appet', 'pe', 'ane', 'classification', 'rbc_nan', 'rbc_normal',\n",
      "       'pc_nan', 'pc_normal', 'pcc_notpresent', 'ba_notpresent', 'htn_yes',\n",
      "       'dm_nan', 'dm_yes', 'cad_no', 'appet_nan', 'appet_good', 'pe_no',\n",
      "       'ane_no', 'age_imp_median', 'bp_imp_median', 'sg_imp_median',\n",
      "       'al_imp_median', 'su_imp_median', 'bgr_imp_median', 'bu_imp_median',\n",
      "       'sc_imp_median', 'sod_imp_median', 'pot_imp_median', 'hemo_imp_median',\n",
      "       'pcv_imp_median', 'wc_imp_median', 'rc_imp_median', 'target'],\n",
      "      dtype='object')\n",
      "Number of columns 55\n",
      "Number of patients 400\n",
      "Data frame shape (400, 55)\n"
     ]
    }
   ],
   "source": [
    "df = pd.read_csv('Data/ProcessedData.csv')\n",
    "\n",
    "print( \"Columns name\", df.columns )\n",
    "\n",
    "print(\"Number of columns\", df.shape[1])\n",
    "print(\"Number of patients\", df.shape[0])\n",
    "print( \"Data frame shape\", df.shape )"
   ]
  },
  {
   "cell_type": "markdown",
   "id": "4400a0cb",
   "metadata": {},
   "source": [
    "## Cluster"
   ]
  },
  {
   "cell_type": "code",
   "execution_count": 4,
   "id": "e2ef49fe",
   "metadata": {},
   "outputs": [
    {
     "name": "stdout",
     "output_type": "stream",
     "text": [
      "Shape (201, 28)\n"
     ]
    }
   ],
   "source": [
    "features_to_use = [\n",
    "    'age', 'bp', 'sg', 'al', 'su', 'bgr',\n",
    "    'bu', 'sc', 'sod', 'pot', 'hemo', 'pcv', 'wc', 'rc',\n",
    "    'rbc_nan', 'rbc_normal',\n",
    "    'pc_nan', 'pc_normal', 'pcc_notpresent', 'ba_notpresent', 'htn_yes',\n",
    "    'dm_nan', 'dm_yes', 'cad_no', 'appet_nan', 'appet_good', 'pe_no',\n",
    "    'ane_no'\n",
    "]\n",
    "\n",
    "clt_nona_idx = df[features_to_use].dropna().index\n",
    "df_clt = df[features_to_use].dropna().reset_index(drop=True)\n",
    "print(\"Shape\", df_clt.shape)\n",
    "\n",
    "ps_target_col = (df.loc[clt_nona_idx, \"classification\"] == \"ckd\")*1\n",
    "ps_target_col = ps_target_col.reset_index(drop=True)"
   ]
  },
  {
   "cell_type": "code",
   "execution_count": 5,
   "id": "historic-oriental",
   "metadata": {},
   "outputs": [
    {
     "name": "stdout",
     "output_type": "stream",
     "text": [
      "Iteration 1000 of 1000\r"
     ]
    }
   ],
   "source": [
    "counter, max_iter = 0, 1 * 10 ** 3\n",
    "clt_result_list = []\n",
    "while True:\n",
    "    \n",
    "    if counter % 50 == 0:\n",
    "        print(\"Iteration\", counter, \"of\", max_iter, end=\"\\r\")\n",
    "    \n",
    "    cluster_idx = random.randint(0, 1)\n",
    "    num_clusters = random.randint(2, 8)\n",
    "    \n",
    "    cluster_model_name = [\n",
    "        \"kmeans\", \"agglomerative\"\n",
    "    ]\n",
    "    \n",
    "    cluster_model = [\n",
    "        cluster.KMeans(n_clusters=num_clusters), \n",
    "        cluster.AgglomerativeClustering(n_clusters=num_clusters, affinity=\"euclidean\", linkage=\"ward\")\n",
    "    ]\n",
    "    \n",
    "    num_features = random.randint(2, len(features_to_use))\n",
    "    feat_to_alg = random.choices(features_to_use, k=num_features)\n",
    "    \n",
    "    y_pred = cluster_model[cluster_idx].fit_predict(df_clt[feat_to_alg])\n",
    "    \n",
    "    nmis = sk_metrics.cluster.normalized_mutual_info_score(ps_target_col.values, y_pred)\n",
    "    \n",
    "    clt_result_list.append({\n",
    "        \"Iteration\": counter,\n",
    "        \"Model\": cluster_model_name[cluster_idx],\n",
    "        \"NumClusters\": num_clusters,\n",
    "        \"Features\": feat_to_alg,\n",
    "        \"NumFeatures\": len(feat_to_alg),\n",
    "        \"MutualInfoScore\": nmis,\n",
    "    })\n",
    "    \n",
    "    if counter >= max_iter:\n",
    "        break\n",
    "    else:\n",
    "        counter += 1\n",
    "    "
   ]
  },
  {
   "cell_type": "code",
   "execution_count": 6,
   "id": "serial-calculator",
   "metadata": {},
   "outputs": [
    {
     "data": {
      "text/html": [
       "<div>\n",
       "<style scoped>\n",
       "    .dataframe tbody tr th:only-of-type {\n",
       "        vertical-align: middle;\n",
       "    }\n",
       "\n",
       "    .dataframe tbody tr th {\n",
       "        vertical-align: top;\n",
       "    }\n",
       "\n",
       "    .dataframe thead th {\n",
       "        text-align: right;\n",
       "    }\n",
       "</style>\n",
       "<table border=\"1\" class=\"dataframe\">\n",
       "  <thead>\n",
       "    <tr style=\"text-align: right;\">\n",
       "      <th></th>\n",
       "      <th>Iteration</th>\n",
       "      <th>Model</th>\n",
       "      <th>NumClusters</th>\n",
       "      <th>Features</th>\n",
       "      <th>NumFeatures</th>\n",
       "      <th>MutualInfoScore</th>\n",
       "    </tr>\n",
       "  </thead>\n",
       "  <tbody>\n",
       "    <tr>\n",
       "      <th>0</th>\n",
       "      <td>894</td>\n",
       "      <td>agglomerative</td>\n",
       "      <td>2</td>\n",
       "      <td>[hemo, su]</td>\n",
       "      <td>2</td>\n",
       "      <td>0.898968</td>\n",
       "    </tr>\n",
       "    <tr>\n",
       "      <th>1</th>\n",
       "      <td>885</td>\n",
       "      <td>agglomerative</td>\n",
       "      <td>2</td>\n",
       "      <td>[hemo, pe_no, pe_no]</td>\n",
       "      <td>3</td>\n",
       "      <td>0.807461</td>\n",
       "    </tr>\n",
       "    <tr>\n",
       "      <th>2</th>\n",
       "      <td>958</td>\n",
       "      <td>kmeans</td>\n",
       "      <td>2</td>\n",
       "      <td>[sg, rbc_nan, hemo, htn_yes, su, dm_yes, pc_no...</td>\n",
       "      <td>15</td>\n",
       "      <td>0.807461</td>\n",
       "    </tr>\n",
       "    <tr>\n",
       "      <th>3</th>\n",
       "      <td>272</td>\n",
       "      <td>agglomerative</td>\n",
       "      <td>2</td>\n",
       "      <td>[rc, dm_yes, cad_no, appet_good]</td>\n",
       "      <td>4</td>\n",
       "      <td>0.807461</td>\n",
       "    </tr>\n",
       "    <tr>\n",
       "      <th>4</th>\n",
       "      <td>982</td>\n",
       "      <td>kmeans</td>\n",
       "      <td>4</td>\n",
       "      <td>[rbc_normal, htn_yes, hemo, dm_yes, ane_no, sg...</td>\n",
       "      <td>16</td>\n",
       "      <td>0.789371</td>\n",
       "    </tr>\n",
       "    <tr>\n",
       "      <th>5</th>\n",
       "      <td>736</td>\n",
       "      <td>kmeans</td>\n",
       "      <td>2</td>\n",
       "      <td>[dm_yes, rc, cad_no, pc_nan, pe_no, rbc_nan]</td>\n",
       "      <td>6</td>\n",
       "      <td>0.787637</td>\n",
       "    </tr>\n",
       "    <tr>\n",
       "      <th>6</th>\n",
       "      <td>791</td>\n",
       "      <td>kmeans</td>\n",
       "      <td>3</td>\n",
       "      <td>[pot, rc, dm_nan, appet_good, hemo, pot]</td>\n",
       "      <td>6</td>\n",
       "      <td>0.772292</td>\n",
       "    </tr>\n",
       "    <tr>\n",
       "      <th>7</th>\n",
       "      <td>983</td>\n",
       "      <td>agglomerative</td>\n",
       "      <td>2</td>\n",
       "      <td>[rc, rbc_nan, ba_notpresent, pc_normal, htn_ye...</td>\n",
       "      <td>10</td>\n",
       "      <td>0.768679</td>\n",
       "    </tr>\n",
       "  </tbody>\n",
       "</table>\n",
       "</div>"
      ],
      "text/plain": [
       "   Iteration          Model  NumClusters  \\\n",
       "0        894  agglomerative            2   \n",
       "1        885  agglomerative            2   \n",
       "2        958         kmeans            2   \n",
       "3        272  agglomerative            2   \n",
       "4        982         kmeans            4   \n",
       "5        736         kmeans            2   \n",
       "6        791         kmeans            3   \n",
       "7        983  agglomerative            2   \n",
       "\n",
       "                                            Features  NumFeatures  \\\n",
       "0                                         [hemo, su]            2   \n",
       "1                               [hemo, pe_no, pe_no]            3   \n",
       "2  [sg, rbc_nan, hemo, htn_yes, su, dm_yes, pc_no...           15   \n",
       "3                   [rc, dm_yes, cad_no, appet_good]            4   \n",
       "4  [rbc_normal, htn_yes, hemo, dm_yes, ane_no, sg...           16   \n",
       "5       [dm_yes, rc, cad_no, pc_nan, pe_no, rbc_nan]            6   \n",
       "6           [pot, rc, dm_nan, appet_good, hemo, pot]            6   \n",
       "7  [rc, rbc_nan, ba_notpresent, pc_normal, htn_ye...           10   \n",
       "\n",
       "   MutualInfoScore  \n",
       "0         0.898968  \n",
       "1         0.807461  \n",
       "2         0.807461  \n",
       "3         0.807461  \n",
       "4         0.789371  \n",
       "5         0.787637  \n",
       "6         0.772292  \n",
       "7         0.768679  "
      ]
     },
     "execution_count": 6,
     "metadata": {},
     "output_type": "execute_result"
    }
   ],
   "source": [
    "df_clt_result = pd.DataFrame(clt_result_list)\n",
    "df_clt_result = df_clt_result.sort_values(\"MutualInfoScore\", ascending=False).reset_index(drop=True)\n",
    "df_clt_result.head(8)"
   ]
  },
  {
   "cell_type": "code",
   "execution_count": 7,
   "id": "quarterly-harris",
   "metadata": {},
   "outputs": [
    {
     "name": "stdout",
     "output_type": "stream",
     "text": [
      "Best model agglomerative\n",
      "Number of clusters 2\n",
      "Best features ['hemo', 'su']\n",
      "Mutual info score 0.899\n"
     ]
    }
   ],
   "source": [
    "print(\"Best model\", df_clt_result.loc[0, \"Model\"])\n",
    "print(\"Number of clusters\", df_clt_result.loc[0, \"NumClusters\"])\n",
    "print(\"Best features\", df_clt_result.loc[0, \"Features\"])\n",
    "print(\"Mutual info score\", np.round(df_clt_result.loc[0, \"MutualInfoScore\"], 4) )"
   ]
  },
  {
   "cell_type": "code",
   "execution_count": 8,
   "id": "twelve-welcome",
   "metadata": {},
   "outputs": [],
   "source": [
    "df[\"ClusterLabels\"] = np.nan\n",
    "\n",
    "num_clusters_th = df_clt_result.loc[0, \"NumClusters\"]\n",
    "\n",
    "if df_clt_result.loc[0, \"Model\"] == \"kmeans\":\n",
    "    model_clt = cluster.KMeans(n_clusters=num_clusters_th)\n",
    "elif df_clt_result.loc[0, \"Model\"] == \"agglomerative\":\n",
    "    model_clt = cluster.AgglomerativeClustering(n_clusters=num_clusters_th, affinity=\"euclidean\", linkage=\"ward\")\n",
    "\n",
    "idx_no_nan = df[df_clt_result.loc[0, \"Features\"]].dropna().index\n",
    "df_to_cluster = df.loc[idx_no_nan, df_clt_result.loc[0, \"Features\"]]\n",
    "\n",
    "model_clt.fit(df_to_cluster)\n",
    "\n",
    "df_to_cluster[\"ClusterLabels\"] = model_clt.labels_"
   ]
  },
  {
   "cell_type": "code",
   "execution_count": 9,
   "id": "disciplinary-winning",
   "metadata": {},
   "outputs": [],
   "source": [
    "df[\"ClusterLabels\"] = df_to_cluster[\"ClusterLabels\"]"
   ]
  },
  {
   "cell_type": "code",
   "execution_count": 10,
   "id": "undefined-polls",
   "metadata": {},
   "outputs": [
    {
     "data": {
      "text/html": [
       "<div>\n",
       "<style scoped>\n",
       "    .dataframe tbody tr th:only-of-type {\n",
       "        vertical-align: middle;\n",
       "    }\n",
       "\n",
       "    .dataframe tbody tr th {\n",
       "        vertical-align: top;\n",
       "    }\n",
       "\n",
       "    .dataframe thead th {\n",
       "        text-align: right;\n",
       "    }\n",
       "</style>\n",
       "<table border=\"1\" class=\"dataframe\">\n",
       "  <thead>\n",
       "    <tr style=\"text-align: right;\">\n",
       "      <th></th>\n",
       "      <th>hemo</th>\n",
       "      <th>su</th>\n",
       "    </tr>\n",
       "  </thead>\n",
       "  <tbody>\n",
       "    <tr>\n",
       "      <th>0</th>\n",
       "      <td>11.2</td>\n",
       "      <td>0.0</td>\n",
       "    </tr>\n",
       "    <tr>\n",
       "      <th>1</th>\n",
       "      <td>12.2</td>\n",
       "      <td>0.0</td>\n",
       "    </tr>\n",
       "    <tr>\n",
       "      <th>2</th>\n",
       "      <td>9.5</td>\n",
       "      <td>0.0</td>\n",
       "    </tr>\n",
       "    <tr>\n",
       "      <th>3</th>\n",
       "      <td>10.8</td>\n",
       "      <td>0.0</td>\n",
       "    </tr>\n",
       "    <tr>\n",
       "      <th>4</th>\n",
       "      <td>9.7</td>\n",
       "      <td>1.0</td>\n",
       "    </tr>\n",
       "  </tbody>\n",
       "</table>\n",
       "</div>"
      ],
      "text/plain": [
       "   hemo   su\n",
       "0  11.2  0.0\n",
       "1  12.2  0.0\n",
       "2   9.5  0.0\n",
       "3  10.8  0.0\n",
       "4   9.7  1.0"
      ]
     },
     "execution_count": 10,
     "metadata": {},
     "output_type": "execute_result"
    }
   ],
   "source": [
    "df_clt[df_clt_result.loc[0, \"Features\"]].head(5)"
   ]
  },
  {
   "cell_type": "code",
   "execution_count": 11,
   "id": "5ad5adf4",
   "metadata": {},
   "outputs": [],
   "source": [
    "all_top_features = []\n",
    "for feat in df_clt_result[\"Features\"].iloc[:5].to_list():\n",
    "    all_top_features += feat\n",
    "all_top_features_arr = np.array(all_top_features)"
   ]
  },
  {
   "cell_type": "code",
   "execution_count": 12,
   "id": "seventh-affiliate",
   "metadata": {},
   "outputs": [
    {
     "data": {
      "text/plain": [
       "{'hemo': 6,\n",
       " 'htn_yes': 4,\n",
       " 'cad_no': 3,\n",
       " 'su': 3,\n",
       " 'dm_yes': 3,\n",
       " 'rc': 2,\n",
       " 'rbc_nan': 2,\n",
       " 'ane_no': 2,\n",
       " 'appet_good': 2,\n",
       " 'pe_no': 2,\n",
       " 'pc_normal': 2,\n",
       " 'sg': 2,\n",
       " 'sc': 1,\n",
       " 'al': 1,\n",
       " 'appet_nan': 1,\n",
       " 'pc_nan': 1,\n",
       " 'pcc_notpresent': 1,\n",
       " 'rbc_normal': 1,\n",
       " 'pot': 1}"
      ]
     },
     "execution_count": 12,
     "metadata": {},
     "output_type": "execute_result"
    }
   ],
   "source": [
    "top_features = {col: np.sum(all_top_features_arr==col) for col in set(all_top_features)}\n",
    "top_features = {k: v for k, v in sorted(top_features.items(), key=lambda item: item[1], reverse=True)}\n",
    "top_features"
   ]
  },
  {
   "cell_type": "code",
   "execution_count": 13,
   "id": "binary-luxury",
   "metadata": {},
   "outputs": [
    {
     "data": {
      "image/png": "[encoded data removed]",
      "text/plain": [
       "<Figure size 1080x432 with 2 Axes>"
      ]
     },
     "metadata": {
      "needs_background": "light"
     },
     "output_type": "display_data"
    }
   ],
   "source": [
    "fig = plt.figure(figsize=(15, 6))\n",
    "\n",
    "fig.add_subplot(1, 2, 1)\n",
    "for g, df_g in df.groupby(\"ClusterLabels\"):\n",
    "    if not np.isnan(g):\n",
    "        \n",
    "        plt.scatter(df_g[ df_clt_result.loc[0, \"Features\"][0] ], \n",
    "                    df_g[ df_clt_result.loc[0, \"Features\"][1] ], \n",
    "                    alpha=0.5, label=str(g))\n",
    "\n",
    "plt.legend(fontsize=12)\n",
    "plt.xlabel(df_clt_result.loc[0, \"Features\"][0], fontsize=14)\n",
    "plt.ylabel(df_clt_result.loc[0, \"Features\"][1], fontsize=14)\n",
    "\n",
    "fig.add_subplot(1, 2, 2)\n",
    "for g, df_g in df.groupby(\"classification\"):\n",
    "        \n",
    "    plt.scatter(df_g[ df_clt_result.loc[0, \"Features\"][0] ], \n",
    "                df_g[ df_clt_result.loc[0, \"Features\"][1] ], \n",
    "                alpha=0.5, label=str(g))\n",
    "\n",
    "plt.legend(fontsize=12)\n",
    "plt.xlabel(df_clt_result.loc[0, \"Features\"][0], fontsize=14)\n",
    "plt.ylabel(df_clt_result.loc[0, \"Features\"][1], fontsize=14)\n",
    "\n",
    "plt.show()"
   ]
  },
  {
   "cell_type": "code",
   "execution_count": 14,
   "id": "twelve-microwave",
   "metadata": {},
   "outputs": [
    {
     "data": {
      "text/html": [
       "<div>\n",
       "<style scoped>\n",
       "    .dataframe tbody tr th:only-of-type {\n",
       "        vertical-align: middle;\n",
       "    }\n",
       "\n",
       "    .dataframe tbody tr th {\n",
       "        vertical-align: top;\n",
       "    }\n",
       "\n",
       "    .dataframe thead th {\n",
       "        text-align: right;\n",
       "    }\n",
       "</style>\n",
       "<table border=\"1\" class=\"dataframe\">\n",
       "  <thead>\n",
       "    <tr style=\"text-align: right;\">\n",
       "      <th>ClusterLabels</th>\n",
       "      <th>0.0</th>\n",
       "      <th>1.0</th>\n",
       "    </tr>\n",
       "    <tr>\n",
       "      <th>classification</th>\n",
       "      <th></th>\n",
       "      <th></th>\n",
       "    </tr>\n",
       "  </thead>\n",
       "  <tbody>\n",
       "    <tr>\n",
       "      <th>ckd</th>\n",
       "      <td>47.588424</td>\n",
       "      <td>7.717042</td>\n",
       "    </tr>\n",
       "    <tr>\n",
       "      <th>notckd</th>\n",
       "      <td>0.000000</td>\n",
       "      <td>44.694534</td>\n",
       "    </tr>\n",
       "  </tbody>\n",
       "</table>\n",
       "</div>"
      ],
      "text/plain": [
       "ClusterLabels         0.0        1.0\n",
       "classification                      \n",
       "ckd             47.588424   7.717042\n",
       "notckd           0.000000  44.694534"
      ]
     },
     "execution_count": 14,
     "metadata": {},
     "output_type": "execute_result"
    }
   ],
   "source": [
    "100 * pd.crosstab(df[\"classification\"], df[\"ClusterLabels\"], normalize=True)"
   ]
  },
  {
   "cell_type": "code",
   "execution_count": null,
   "id": "spatial-society",
   "metadata": {},
   "outputs": [],
   "source": []
  },
  {
   "cell_type": "markdown",
   "id": "established-phase",
   "metadata": {},
   "source": [
    "### Compare cluster methods"
   ]
  },
  {
   "cell_type": "code",
   "execution_count": 15,
   "id": "detected-demographic",
   "metadata": {},
   "outputs": [],
   "source": [
    "columns_to_cluster = [\n",
    "    'age', 'bp', 'sg', 'al', 'su', 'bgr',\n",
    "    'bu', 'sc', 'sod', 'pot', 'hemo', 'pcv', 'wc', 'rc',\n",
    "    'rbc_nan', 'rbc_normal',\n",
    "    'pc_nan', 'pc_normal', 'pcc_notpresent', 'ba_notpresent', 'htn_yes',\n",
    "    'dm_nan', 'dm_yes', 'cad_no', 'appet_nan', 'appet_good', 'pe_no',\n",
    "    'ane_no'\n",
    "]\n",
    "\n",
    "index_man_nona = df[columns_to_cluster].dropna().index\n",
    "df_nona = df.loc[index_man_nona].reset_index(drop=True)"
   ]
  },
  {
   "cell_type": "code",
   "execution_count": 16,
   "id": "elementary-least",
   "metadata": {},
   "outputs": [
    {
     "data": {
      "image/png": "[encoded data removed]",
      "text/plain": [
       "<Figure size 432x288 with 1 Axes>"
      ]
     },
     "metadata": {
      "needs_background": "light"
     },
     "output_type": "display_data"
    }
   ],
   "source": [
    "agg_clt = cluster.AgglomerativeClustering(n_clusters=None, affinity=\"euclidean\", linkage=\"ward\", distance_threshold=0)\n",
    "agg_clt.fit_predict(df_nona[columns_to_cluster])\n",
    "\n",
    "ute.plot_dendrogram(agg_clt, p=20, truncate_mode='lastp')"
   ]
  },
  {
   "cell_type": "code",
   "execution_count": 17,
   "id": "electoral-devil",
   "metadata": {},
   "outputs": [],
   "source": [
    "agg_clt = cluster.AgglomerativeClustering(n_clusters=6, affinity=\"euclidean\", linkage=\"ward\")\n",
    "clt_t0 = agg_clt.fit_predict(df_nona[columns_to_cluster])"
   ]
  },
  {
   "cell_type": "code",
   "execution_count": 18,
   "id": "advisory-dream",
   "metadata": {},
   "outputs": [
    {
     "data": {
      "image/png": "[encoded data removed]",
      "text/plain": [
       "<Figure size 432x288 with 1 Axes>"
      ]
     },
     "metadata": {
      "needs_background": "light"
     },
     "output_type": "display_data"
    }
   ],
   "source": [
    "linked = linkage(df_nona[columns_to_cluster], method='ward', metric=\"euclidean\")\n",
    "my_dendo = hierarchy.dendrogram(linked, 20, 'lastp')\n",
    "plt.show()"
   ]
  },
  {
   "cell_type": "code",
   "execution_count": 19,
   "id": "psychological-layer",
   "metadata": {},
   "outputs": [],
   "source": [
    "labels_scipy = fcluster(linked, t=6, criterion=\"maxclust\")"
   ]
  },
  {
   "cell_type": "code",
   "execution_count": 20,
   "id": "equipped-chemical",
   "metadata": {},
   "outputs": [
    {
     "data": {
      "text/html": [
       "<div>\n",
       "<style scoped>\n",
       "    .dataframe tbody tr th:only-of-type {\n",
       "        vertical-align: middle;\n",
       "    }\n",
       "\n",
       "    .dataframe tbody tr th {\n",
       "        vertical-align: top;\n",
       "    }\n",
       "\n",
       "    .dataframe thead th {\n",
       "        text-align: right;\n",
       "    }\n",
       "</style>\n",
       "<table border=\"1\" class=\"dataframe\">\n",
       "  <thead>\n",
       "    <tr style=\"text-align: right;\">\n",
       "      <th>col_0</th>\n",
       "      <th>0</th>\n",
       "      <th>1</th>\n",
       "      <th>2</th>\n",
       "      <th>3</th>\n",
       "      <th>4</th>\n",
       "      <th>5</th>\n",
       "    </tr>\n",
       "    <tr>\n",
       "      <th>row_0</th>\n",
       "      <th></th>\n",
       "      <th></th>\n",
       "      <th></th>\n",
       "      <th></th>\n",
       "      <th></th>\n",
       "      <th></th>\n",
       "    </tr>\n",
       "  </thead>\n",
       "  <tbody>\n",
       "    <tr>\n",
       "      <th>1</th>\n",
       "      <td>0</td>\n",
       "      <td>0</td>\n",
       "      <td>10</td>\n",
       "      <td>0</td>\n",
       "      <td>0</td>\n",
       "      <td>0</td>\n",
       "    </tr>\n",
       "    <tr>\n",
       "      <th>2</th>\n",
       "      <td>0</td>\n",
       "      <td>0</td>\n",
       "      <td>0</td>\n",
       "      <td>0</td>\n",
       "      <td>1</td>\n",
       "      <td>0</td>\n",
       "    </tr>\n",
       "    <tr>\n",
       "      <th>3</th>\n",
       "      <td>0</td>\n",
       "      <td>0</td>\n",
       "      <td>0</td>\n",
       "      <td>0</td>\n",
       "      <td>0</td>\n",
       "      <td>51</td>\n",
       "    </tr>\n",
       "    <tr>\n",
       "      <th>4</th>\n",
       "      <td>0</td>\n",
       "      <td>0</td>\n",
       "      <td>0</td>\n",
       "      <td>32</td>\n",
       "      <td>0</td>\n",
       "      <td>0</td>\n",
       "    </tr>\n",
       "    <tr>\n",
       "      <th>5</th>\n",
       "      <td>0</td>\n",
       "      <td>37</td>\n",
       "      <td>0</td>\n",
       "      <td>0</td>\n",
       "      <td>0</td>\n",
       "      <td>0</td>\n",
       "    </tr>\n",
       "    <tr>\n",
       "      <th>6</th>\n",
       "      <td>70</td>\n",
       "      <td>0</td>\n",
       "      <td>0</td>\n",
       "      <td>0</td>\n",
       "      <td>0</td>\n",
       "      <td>0</td>\n",
       "    </tr>\n",
       "  </tbody>\n",
       "</table>\n",
       "</div>"
      ],
      "text/plain": [
       "col_0   0   1   2   3  4   5\n",
       "row_0                       \n",
       "1       0   0  10   0  0   0\n",
       "2       0   0   0   0  1   0\n",
       "3       0   0   0   0  0  51\n",
       "4       0   0   0  32  0   0\n",
       "5       0  37   0   0  0   0\n",
       "6      70   0   0   0  0   0"
      ]
     },
     "execution_count": 20,
     "metadata": {},
     "output_type": "execute_result"
    }
   ],
   "source": [
    "pd.crosstab(labels_scipy, clt_t0)"
   ]
  },
  {
   "cell_type": "code",
   "execution_count": 21,
   "id": "framed-first",
   "metadata": {},
   "outputs": [
    {
     "data": {
      "text/plain": [
       "1.0"
      ]
     },
     "execution_count": 21,
     "metadata": {},
     "output_type": "execute_result"
    }
   ],
   "source": [
    "sk_metrics.normalized_mutual_info_score(labels_scipy, clt_t0)"
   ]
  },
  {
   "cell_type": "markdown",
   "id": "eaa35e56",
   "metadata": {},
   "source": [
    "## Manifold"
   ]
  },
  {
   "cell_type": "code",
   "execution_count": 22,
   "id": "383a2baf",
   "metadata": {},
   "outputs": [],
   "source": [
    "df_man = df.copy()"
   ]
  },
  {
   "cell_type": "code",
   "execution_count": 23,
   "id": "0cb6fe05",
   "metadata": {},
   "outputs": [
    {
     "name": "stdout",
     "output_type": "stream",
     "text": [
      "Number of columns 28\n"
     ]
    }
   ],
   "source": [
    "columns_to_manifold = [\n",
    "    'age', 'bp', 'sg', 'al', 'su', 'bgr',\n",
    "    'bu', 'sc', 'sod', 'pot', 'hemo', 'pcv', 'wc', 'rc',\n",
    "    'rbc_nan', 'rbc_normal',\n",
    "    'pc_nan', 'pc_normal', 'pcc_notpresent', 'ba_notpresent', 'htn_yes',\n",
    "    'dm_nan', 'dm_yes', 'cad_no', 'appet_nan', 'appet_good', 'pe_no',\n",
    "    'ane_no'\n",
    "]\n",
    "\n",
    "numerical_manifold_feat = [\n",
    "    'age', 'bp', 'sg', 'al', 'su', 'bgr',\n",
    "    'bu', 'sc', 'sod', 'pot', 'hemo', 'pcv', 'wc', 'rc'\n",
    "]\n",
    "\n",
    "boolean_manifold_feat = [\n",
    "    'rbc_nan', 'rbc_normal',\n",
    "    'pc_nan', 'pc_normal', 'pcc_notpresent', 'ba_notpresent', 'htn_yes',\n",
    "    'dm_nan', 'dm_yes', 'cad_no', 'appet_nan', 'appet_good', 'pe_no',\n",
    "    'ane_no'\n",
    "]\n",
    "\n",
    "columns_to_manifold = numerical_manifold_feat + boolean_manifold_feat\n",
    "\n",
    "print(\"Number of columns\", len(columns_to_manifold))"
   ]
  },
  {
   "cell_type": "code",
   "execution_count": 24,
   "id": "7114e815",
   "metadata": {},
   "outputs": [
    {
     "name": "stdout",
     "output_type": "stream",
     "text": [
      "Shape of the data (201, 56)\n"
     ]
    }
   ],
   "source": [
    "index_man_nona = df_man[numerical_manifold_feat].dropna().index\n",
    "df_man_nona = df_man.loc[index_man_nona].reset_index(drop=True)\n",
    "\n",
    "print(\"Shape of the data\", df_man_nona.shape)"
   ]
  },
  {
   "cell_type": "code",
   "execution_count": 25,
   "id": "unnecessary-apple",
   "metadata": {},
   "outputs": [],
   "source": [
    "norm_mode = \"Std\"\n",
    "\n",
    "if norm_mode == \"Std\":\n",
    "    df_man_nona_num = (\n",
    "        df_man_nona[numerical_manifold_feat] - df_man_nona[numerical_manifold_feat].mean(axis=0)\n",
    "    )/(df_man_nona[numerical_manifold_feat].std(axis=0))\n",
    "elif norm_mode == \"Minmax\":\n",
    "    df_man_nona_num = (\n",
    "        df_man_nona[numerical_manifold_feat] - df_man_nona[numerical_manifold_feat].min(axis=0)\n",
    "    )/(df_man_nona[numerical_manifold_feat].max(axis=0) - df_man_nona[numerical_manifold_feat].min(axis=0))\n",
    "else:\n",
    "    df_man_nona_num = df_man_nona[numerical_manifold_feat]"
   ]
  },
  {
   "cell_type": "markdown",
   "id": "demanding-vacation",
   "metadata": {},
   "source": [
    "### PCA"
   ]
  },
  {
   "cell_type": "code",
   "execution_count": 26,
   "id": "d03cc82d",
   "metadata": {},
   "outputs": [
    {
     "name": "stdout",
     "output_type": "stream",
     "text": [
      "Explained Variance ratio in PCA 55.861 %\n"
     ]
    }
   ],
   "source": [
    "pca = PCA(n_components=2, random_state=seed_th)\n",
    "pca_array = pca.fit_transform(df_man_nona_num)\n",
    "\n",
    "df_man_pca = pd.DataFrame(pca_array)\n",
    "df_man_pca[\"Target\"] = df_man_nona[\"classification\"]\n",
    "df_man_pca[\"ClusterTarget\"] = df_man_nona[\"ClusterLabels\"]\n",
    "print(\"Explained Variance ratio in PCA\", np.round(100 * np.sum(pca.explained_variance_ratio_), 4), \"%\")"
   ]
  },
  {
   "cell_type": "code",
   "execution_count": 27,
   "id": "fc8f5111",
   "metadata": {},
   "outputs": [
    {
     "data": {
      "image/png": "[encoded data removed]",
      "text/plain": [
       "<Figure size 1296x432 with 2 Axes>"
      ]
     },
     "metadata": {
      "needs_background": "light"
     },
     "output_type": "display_data"
    }
   ],
   "source": [
    "fig = plt.figure(figsize=(18, 6))\n",
    "\n",
    "fig.add_subplot(1, 2, 1)\n",
    "for g, df_g in df_man_pca.groupby(\"Target\"):\n",
    "\n",
    "    plt.scatter(df_g[0], df_g[1], label=str(g), alpha=0.5)\n",
    "    \n",
    "plt.legend(fontsize=12)\n",
    "plt.ylabel(\"Component 2\", fontsize=14)\n",
    "plt.xlabel(\"Component 1\", fontsize=14)\n",
    "plt.title(\"Real target\", fontsize=14)\n",
    "\n",
    "fig.add_subplot(1, 2, 2)\n",
    "for g, df_g in df_man_pca.groupby(\"ClusterTarget\"):\n",
    "\n",
    "    plt.scatter(df_g[0], df_g[1], label=str(g), alpha=0.5)\n",
    "    \n",
    "plt.legend(fontsize=12)\n",
    "plt.ylabel(\"Component 2\", fontsize=14)\n",
    "plt.xlabel(\"Component 1\", fontsize=14)\n",
    "plt.title(\"Cluster labels\", fontsize=14)\n",
    "\n",
    "plt.show()"
   ]
  },
  {
   "cell_type": "code",
   "execution_count": 57,
   "id": "killing-framing",
   "metadata": {},
   "outputs": [
    {
     "name": "stdout",
     "output_type": "stream",
     "text": [
      "Iteration 39\r"
     ]
    }
   ],
   "source": [
    "X_data = df_man_pca[[0, 1]]\n",
    "Y_data = (df_man_pca[\"Target\"] == \"ckd\") * 1\n",
    "\n",
    "df_metrics_score = mlute.get_model_metrics(\n",
    "    X_data, Y_data, \n",
    "    model=LogisticRegression(random_state=seed_th, n_jobs=-1), \n",
    "    n_splits=10, n_repeats=4, random_state=seed_th\n",
    ")"
   ]
  },
  {
   "cell_type": "code",
   "execution_count": 58,
   "id": "nuclear-excuse",
   "metadata": {},
   "outputs": [
    {
     "name": "stdout",
     "output_type": "stream",
     "text": [
      "Mean Accuracy = 0.9951 +/- 0.0148 ; Median = 1.0 ; Min. =  0.95 ; Max. =  1.0\n",
      "Mean CohenKappa = 0.9893 +/- 0.0323 ; Median = 1.0 ; Min. =  0.8864 ; Max. =  1.0\n",
      "Mean AUC = 0.9935 +/- 0.0195 ; Median = 1.0 ; Min. =  0.9286 ; Max. =  1.0\n"
     ]
    },
    {
     "data": {
      "image/png": "[encoded data removed]",
      "text/plain": [
       "<Figure size 1152x360 with 1 Axes>"
      ]
     },
     "metadata": {
      "needs_background": "light"
     },
     "output_type": "display_data"
    }
   ],
   "source": [
    "ute.stat_print(df_metrics_score[\"Accuracy\"], \"Accuracy\")\n",
    "ute.stat_print(df_metrics_score[\"CohenKappa\"], \"CohenKappa\")\n",
    "ute.stat_print(df_metrics_score[\"AUC\"], \"AUC\")\n",
    "\n",
    "plt.figure(figsize=(16, 5))\n",
    "\n",
    "plt.hist(df_metrics_score[\"Accuracy\"], bins=31, label=\"Accuracy\", alpha=0.7)\n",
    "plt.hist(df_metrics_score[\"CohenKappa\"], bins=31, label=\"CohenKappa\", alpha=0.7)\n",
    "plt.hist(df_metrics_score[\"AUC\"], bins=31, label=\"AUC\", alpha=0.7)\n",
    "\n",
    "plt.legend(fontsize=14)\n",
    "\n",
    "plt.show()"
   ]
  },
  {
   "cell_type": "markdown",
   "id": "fewer-public",
   "metadata": {},
   "source": [
    "### t-SNE"
   ]
  },
  {
   "cell_type": "code",
   "execution_count": 28,
   "id": "forty-location",
   "metadata": {},
   "outputs": [],
   "source": [
    "tsne = sk_manifold.TSNE(n_components=2, perplexity=50, random_state=seed_th, n_jobs=-1)\n",
    "tsne_array = tsne.fit_transform(df_man_nona_num)\n",
    "\n",
    "df_man_tsne = pd.DataFrame(tsne_array)\n",
    "df_man_tsne[\"Target\"] = df_man_nona[\"classification\"]\n",
    "df_man_tsne[\"ClusterTarget\"] = df_man_nona[\"ClusterLabels\"]"
   ]
  },
  {
   "cell_type": "code",
   "execution_count": 29,
   "id": "insured-poison",
   "metadata": {},
   "outputs": [
    {
     "data": {
      "image/png": "[encoded data removed]",
      "text/plain": [
       "<Figure size 1296x432 with 2 Axes>"
      ]
     },
     "metadata": {
      "needs_background": "light"
     },
     "output_type": "display_data"
    }
   ],
   "source": [
    "fig = plt.figure(figsize=(18, 6))\n",
    "\n",
    "fig.add_subplot(1, 2, 1)\n",
    "for g, df_g in df_man_tsne.groupby(\"Target\"):\n",
    "\n",
    "    plt.scatter(df_g[0], df_g[1], label=str(g), alpha=0.5)\n",
    "    \n",
    "plt.legend(fontsize=12)\n",
    "plt.ylabel(\"Component 2\", fontsize=14)\n",
    "plt.xlabel(\"Component 1\", fontsize=14)\n",
    "plt.title(\"Real target\", fontsize=14)\n",
    "\n",
    "fig.add_subplot(1, 2, 2)\n",
    "for g, df_g in df_man_tsne.groupby(\"ClusterTarget\"):\n",
    "\n",
    "    plt.scatter(df_g[0], df_g[1], label=str(g), alpha=0.5)\n",
    "    \n",
    "plt.legend(fontsize=12)\n",
    "plt.ylabel(\"Component 2\", fontsize=14)\n",
    "plt.xlabel(\"Component 1\", fontsize=14)\n",
    "plt.title(\"Cluster labels\", fontsize=14)\n",
    "\n",
    "plt.show()"
   ]
  },
  {
   "cell_type": "code",
   "execution_count": 59,
   "id": "wicked-invalid",
   "metadata": {},
   "outputs": [
    {
     "name": "stdout",
     "output_type": "stream",
     "text": [
      "Iteration 39\r"
     ]
    }
   ],
   "source": [
    "X_data = df_man_tsne[[0, 1]]\n",
    "Y_data = (df_man_tsne[\"Target\"] == \"ckd\") * 1\n",
    "\n",
    "df_metrics_score = mlute.get_model_metrics(\n",
    "    X_data, Y_data, \n",
    "    model=LogisticRegression(random_state=seed_th, n_jobs=-1), \n",
    "    n_splits=10, n_repeats=4, random_state=seed_th\n",
    ")"
   ]
  },
  {
   "cell_type": "code",
   "execution_count": 60,
   "id": "urban-independence",
   "metadata": {},
   "outputs": [
    {
     "name": "stdout",
     "output_type": "stream",
     "text": [
      "Mean Accuracy = 1.0 +/- 0.0 ; Median = 1.0 ; Min. =  1.0 ; Max. =  1.0\n",
      "Mean CohenKappa = 1.0 +/- 0.0 ; Median = 1.0 ; Min. =  1.0 ; Max. =  1.0\n",
      "Mean AUC = 1.0 +/- 0.0 ; Median = 1.0 ; Min. =  1.0 ; Max. =  1.0\n"
     ]
    },
    {
     "data": {
      "image/png": "[encoded data removed]",
      "text/plain": [
       "<Figure size 1152x360 with 1 Axes>"
      ]
     },
     "metadata": {
      "needs_background": "light"
     },
     "output_type": "display_data"
    }
   ],
   "source": [
    "ute.stat_print(df_metrics_score[\"Accuracy\"], \"Accuracy\")\n",
    "ute.stat_print(df_metrics_score[\"CohenKappa\"], \"CohenKappa\")\n",
    "ute.stat_print(df_metrics_score[\"AUC\"], \"AUC\")\n",
    "\n",
    "plt.figure(figsize=(16, 5))\n",
    "\n",
    "plt.hist(df_metrics_score[\"Accuracy\"], bins=31, label=\"Accuracy\", alpha=0.7)\n",
    "plt.hist(df_metrics_score[\"CohenKappa\"], bins=31, label=\"CohenKappa\", alpha=0.7)\n",
    "plt.hist(df_metrics_score[\"AUC\"], bins=31, label=\"AUC\", alpha=0.7)\n",
    "\n",
    "plt.legend(fontsize=14)\n",
    "\n",
    "plt.show()"
   ]
  },
  {
   "cell_type": "code",
   "execution_count": null,
   "id": "handmade-structure",
   "metadata": {},
   "outputs": [],
   "source": []
  }
 ],
 "metadata": {
  "kernelspec": {
   "display_name": "Python 3",
   "language": "python",
   "name": "python3"
  },
  "language_info": {
   "codemirror_mode": {
    "name": "ipython",
    "version": 3
   },
   "file_extension": ".py",
   "mimetype": "text/x-python",
   "name": "python",
   "nbconvert_exporter": "python",
   "pygments_lexer": "ipython3",
   "version": "3.8.7"
  }
 },
 "nbformat": 4,
 "nbformat_minor": 5
}
