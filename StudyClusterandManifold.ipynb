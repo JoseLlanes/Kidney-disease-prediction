{
 "cells": [
  {
   "cell_type": "code",
   "execution_count": 1,
   "id": "c7a7ed19",
   "metadata": {},
   "outputs": [],
   "source": [
    "# ### Basics\n",
    "import numpy as np\n",
    "import pandas as pd\n",
    "import seaborn as sns\n",
    "import matplotlib.pyplot as plt\n",
    "import warnings\n",
    "import re\n",
    "import random\n",
    "\n",
    "# ### Statistics\n",
    "import scipy.stats as sc_stats\n",
    "\n",
    "# ### Cluster ###\n",
    "from sklearn import cluster\n",
    "\n",
    "# ### Machine Learning\n",
    "from sklearn.model_selection import train_test_split, GridSearchCV\n",
    "from sklearn.preprocessing import MinMaxScaler, StandardScaler\n",
    "\n",
    "# ### Methods for classification\n",
    "import sklearn.metrics as sk_metrics \n",
    "\n",
    "# ### Model selection\n",
    "from sklearn.model_selection import RepeatedKFold, RepeatedStratifiedKFold\n",
    "\n",
    "# ### Methods for regression\n",
    "from sklearn.linear_model import LinearRegression,LogisticRegression\n",
    "from sklearn.ensemble import RandomForestClassifier, ExtraTreesClassifier\n",
    "\n",
    "# ### Manifold methods\n",
    "from sklearn.decomposition import PCA\n",
    "import sklearn.manifold as sk_manifold\n",
    "\n",
    "# ### For feature selection\n",
    "from mlxtend.feature_selection import SequentialFeatureSelector as SFS\n",
    "\n",
    "warnings.filterwarnings('ignore')\n",
    "\n",
    "import utils as ute"
   ]
  },
  {
   "cell_type": "code",
   "execution_count": 2,
   "id": "15aa7b3d",
   "metadata": {},
   "outputs": [],
   "source": [
    "pvalue_th = 0.05\n",
    "seed_th = 0"
   ]
  },
  {
   "cell_type": "code",
   "execution_count": 3,
   "id": "7c20d478",
   "metadata": {},
   "outputs": [
    {
     "name": "stdout",
     "output_type": "stream",
     "text": [
      "Columns name Index(['id', 'age', 'bp', 'sg', 'al', 'su', 'rbc', 'pc', 'pcc', 'ba', 'bgr',\n",
      "       'bu', 'sc', 'sod', 'pot', 'hemo', 'pcv', 'wc', 'rc', 'htn', 'dm', 'cad',\n",
      "       'appet', 'pe', 'ane', 'classification', 'rbc_nan', 'rbc_normal',\n",
      "       'pc_nan', 'pc_normal', 'pcc_notpresent', 'ba_notpresent', 'htn_yes',\n",
      "       'dm_nan', 'dm_yes', 'cad_no', 'appet_nan', 'appet_good', 'pe_no',\n",
      "       'ane_no', 'age_imp_median', 'bp_imp_median', 'sg_imp_median',\n",
      "       'al_imp_median', 'su_imp_median', 'bgr_imp_median', 'bu_imp_median',\n",
      "       'sc_imp_median', 'sod_imp_median', 'pot_imp_median', 'hemo_imp_median',\n",
      "       'pcv_imp_median', 'wc_imp_median', 'rc_imp_median', 'target'],\n",
      "      dtype='object')\n",
      "Number of columns 55\n",
      "Number of patients 400\n",
      "Data frame shape (400, 55)\n"
     ]
    }
   ],
   "source": [
    "df = pd.read_csv('Data/ProcessedData.csv')\n",
    "\n",
    "print( \"Columns name\", df.columns )\n",
    "\n",
    "print(\"Number of columns\", df.shape[1])\n",
    "print(\"Number of patients\", df.shape[0])\n",
    "print( \"Data frame shape\", df.shape )"
   ]
  },
  {
   "cell_type": "markdown",
   "id": "4400a0cb",
   "metadata": {},
   "source": [
    "## Cluster"
   ]
  },
  {
   "cell_type": "code",
   "execution_count": 4,
   "id": "e2ef49fe",
   "metadata": {},
   "outputs": [
    {
     "name": "stdout",
     "output_type": "stream",
     "text": [
      "Shape (201, 28)\n"
     ]
    }
   ],
   "source": [
    "features_to_use = [\n",
    "    'age', 'bp', 'sg', 'al', 'su', 'bgr',\n",
    "    'bu', 'sc', 'sod', 'pot', 'hemo', 'pcv', 'wc', 'rc',\n",
    "    'rbc_nan', 'rbc_normal',\n",
    "    'pc_nan', 'pc_normal', 'pcc_notpresent', 'ba_notpresent', 'htn_yes',\n",
    "    'dm_nan', 'dm_yes', 'cad_no', 'appet_nan', 'appet_good', 'pe_no',\n",
    "    'ane_no'\n",
    "]\n",
    "\n",
    "clt_nona_idx = df[features_to_use].dropna().index\n",
    "df_clt = df[features_to_use].dropna().reset_index(drop=True)\n",
    "print(\"Shape\", df_clt.shape)\n",
    "\n",
    "ps_target_col = (df.loc[clt_nona_idx, \"classification\"] == \"ckd\")*1\n",
    "ps_target_col = ps_target_col.reset_index(drop=True)"
   ]
  },
  {
   "cell_type": "code",
   "execution_count": 7,
   "id": "considerable-stick",
   "metadata": {},
   "outputs": [
    {
     "name": "stdout",
     "output_type": "stream",
     "text": [
      "Iteration 10001 of 10000\r"
     ]
    }
   ],
   "source": [
    "counter, max_iter = 0, 1 * 10 ** 4\n",
    "clt_result_list = []\n",
    "while True:\n",
    "    \n",
    "    if counter % 50 == 0:\n",
    "        print(\"Iteration\", counter, \"of\", max_iter, end=\"\\r\")\n",
    "    \n",
    "    cluster_idx = random.randint(0, 1)\n",
    "    num_clusters = random.randint(2, 8)\n",
    "    \n",
    "    cluster_model_name = [\n",
    "        \"kmeans\", \"agglomerative\"\n",
    "    ]\n",
    "    \n",
    "    cluster_model = [\n",
    "        cluster.KMeans(n_clusters=num_clusters), \n",
    "        cluster.AgglomerativeClustering(n_clusters=num_clusters, affinity=\"euclidean\", linkage=\"ward\")\n",
    "    ]\n",
    "    \n",
    "    num_features = random.randint(2, len(features_to_use))\n",
    "    feat_to_alg = random.choices(features_to_use, k=num_features)\n",
    "    \n",
    "    y_pred = cluster_model[cluster_idx].fit_predict(df_clt[feat_to_alg])\n",
    "    \n",
    "    nmis = sk_metrics.cluster.normalized_mutual_info_score(ps_target_col.values, y_pred)\n",
    "    \n",
    "    clt_result_list.append({\n",
    "        \"Iteration\": counter,\n",
    "        \"Model\": cluster_model_name[cluster_idx],\n",
    "        \"NumClusters\": num_clusters,\n",
    "        \"Features\": feat_to_alg,\n",
    "        \"NumFeatures\": len(feat_to_alg),\n",
    "        \"MutualInfoScore\": nmis,\n",
    "    })\n",
    "    \n",
    "    if counter >= max_iter:\n",
    "        break\n",
    "    else:\n",
    "        counter += 1\n",
    "    "
   ]
  },
  {
   "cell_type": "code",
   "execution_count": 16,
   "id": "bored-lunch",
   "metadata": {},
   "outputs": [
    {
     "data": {
      "text/html": [
       "<div>\n",
       "<style scoped>\n",
       "    .dataframe tbody tr th:only-of-type {\n",
       "        vertical-align: middle;\n",
       "    }\n",
       "\n",
       "    .dataframe tbody tr th {\n",
       "        vertical-align: top;\n",
       "    }\n",
       "\n",
       "    .dataframe thead th {\n",
       "        text-align: right;\n",
       "    }\n",
       "</style>\n",
       "<table border=\"1\" class=\"dataframe\">\n",
       "  <thead>\n",
       "    <tr style=\"text-align: right;\">\n",
       "      <th></th>\n",
       "      <th>Iteration</th>\n",
       "      <th>Model</th>\n",
       "      <th>NumClusters</th>\n",
       "      <th>Features</th>\n",
       "      <th>NumFeatures</th>\n",
       "      <th>MutualInfoScore</th>\n",
       "    </tr>\n",
       "  </thead>\n",
       "  <tbody>\n",
       "    <tr>\n",
       "      <th>0</th>\n",
       "      <td>4225</td>\n",
       "      <td>agglomerative</td>\n",
       "      <td>2</td>\n",
       "      <td>[al, su, hemo, pe_no]</td>\n",
       "      <td>4</td>\n",
       "      <td>0.926675</td>\n",
       "    </tr>\n",
       "    <tr>\n",
       "      <th>1</th>\n",
       "      <td>7527</td>\n",
       "      <td>agglomerative</td>\n",
       "      <td>2</td>\n",
       "      <td>[rbc_normal, hemo, hemo, pc_nan, pot, appet_na...</td>\n",
       "      <td>20</td>\n",
       "      <td>0.898968</td>\n",
       "    </tr>\n",
       "    <tr>\n",
       "      <th>2</th>\n",
       "      <td>6533</td>\n",
       "      <td>agglomerative</td>\n",
       "      <td>2</td>\n",
       "      <td>[appet_nan, hemo, su, rc]</td>\n",
       "      <td>4</td>\n",
       "      <td>0.898968</td>\n",
       "    </tr>\n",
       "    <tr>\n",
       "      <th>3</th>\n",
       "      <td>487</td>\n",
       "      <td>agglomerative</td>\n",
       "      <td>2</td>\n",
       "      <td>[hemo, ba_notpresent, su, hemo]</td>\n",
       "      <td>4</td>\n",
       "      <td>0.898968</td>\n",
       "    </tr>\n",
       "    <tr>\n",
       "      <th>4</th>\n",
       "      <td>6086</td>\n",
       "      <td>agglomerative</td>\n",
       "      <td>2</td>\n",
       "      <td>[rbc_normal, sc, pcc_notpresent, cad_no, appet...</td>\n",
       "      <td>7</td>\n",
       "      <td>0.898968</td>\n",
       "    </tr>\n",
       "    <tr>\n",
       "      <th>5</th>\n",
       "      <td>6019</td>\n",
       "      <td>agglomerative</td>\n",
       "      <td>2</td>\n",
       "      <td>[pc_nan, cad_no, sg, sod, hemo, pot, sg, pcc_n...</td>\n",
       "      <td>20</td>\n",
       "      <td>0.873721</td>\n",
       "    </tr>\n",
       "    <tr>\n",
       "      <th>6</th>\n",
       "      <td>5037</td>\n",
       "      <td>agglomerative</td>\n",
       "      <td>2</td>\n",
       "      <td>[ba_notpresent, sg, rc, pcc_notpresent, pe_no,...</td>\n",
       "      <td>11</td>\n",
       "      <td>0.873721</td>\n",
       "    </tr>\n",
       "    <tr>\n",
       "      <th>7</th>\n",
       "      <td>2412</td>\n",
       "      <td>agglomerative</td>\n",
       "      <td>3</td>\n",
       "      <td>[rc, dm_yes, dm_nan, pot, dm_yes, htn_yes, rbc...</td>\n",
       "      <td>23</td>\n",
       "      <td>0.856672</td>\n",
       "    </tr>\n",
       "  </tbody>\n",
       "</table>\n",
       "</div>"
      ],
      "text/plain": [
       "   Iteration          Model  NumClusters  \\\n",
       "0       4225  agglomerative            2   \n",
       "1       7527  agglomerative            2   \n",
       "2       6533  agglomerative            2   \n",
       "3        487  agglomerative            2   \n",
       "4       6086  agglomerative            2   \n",
       "5       6019  agglomerative            2   \n",
       "6       5037  agglomerative            2   \n",
       "7       2412  agglomerative            3   \n",
       "\n",
       "                                            Features  NumFeatures  \\\n",
       "0                              [al, su, hemo, pe_no]            4   \n",
       "1  [rbc_normal, hemo, hemo, pc_nan, pot, appet_na...           20   \n",
       "2                          [appet_nan, hemo, su, rc]            4   \n",
       "3                    [hemo, ba_notpresent, su, hemo]            4   \n",
       "4  [rbc_normal, sc, pcc_notpresent, cad_no, appet...            7   \n",
       "5  [pc_nan, cad_no, sg, sod, hemo, pot, sg, pcc_n...           20   \n",
       "6  [ba_notpresent, sg, rc, pcc_notpresent, pe_no,...           11   \n",
       "7  [rc, dm_yes, dm_nan, pot, dm_yes, htn_yes, rbc...           23   \n",
       "\n",
       "   MutualInfoScore  \n",
       "0         0.926675  \n",
       "1         0.898968  \n",
       "2         0.898968  \n",
       "3         0.898968  \n",
       "4         0.898968  \n",
       "5         0.873721  \n",
       "6         0.873721  \n",
       "7         0.856672  "
      ]
     },
     "execution_count": 16,
     "metadata": {},
     "output_type": "execute_result"
    }
   ],
   "source": [
    "df_clt_result = pd.DataFrame(clt_result_list)\n",
    "df_clt_result = df_clt_result.sort_values(\"MutualInfoScore\", ascending=False).reset_index(drop=True)\n",
    "df_clt_result.head(8)"
   ]
  },
  {
   "cell_type": "code",
   "execution_count": 9,
   "id": "incorrect-shape",
   "metadata": {},
   "outputs": [
    {
     "name": "stdout",
     "output_type": "stream",
     "text": [
      "Best model agglomerative\n",
      "Number of clusters 2\n",
      "Best features ['al', 'su', 'hemo', 'pe_no']\n",
      "Mutual info score 0.9267\n"
     ]
    }
   ],
   "source": [
    "print(\"Best model\", df_clt_result.loc[0, \"Model\"])\n",
    "print(\"Number of clusters\", df_clt_result.loc[0, \"NumClusters\"])\n",
    "print(\"Best features\", df_clt_result.loc[0, \"Features\"])\n",
    "print(\"Mutual info score\", np.round(df_clt_result.loc[0, \"MutualInfoScore\"], 4) )"
   ]
  },
  {
   "cell_type": "code",
   "execution_count": 18,
   "id": "fantastic-invasion",
   "metadata": {},
   "outputs": [
    {
     "data": {
      "text/html": [
       "<div>\n",
       "<style scoped>\n",
       "    .dataframe tbody tr th:only-of-type {\n",
       "        vertical-align: middle;\n",
       "    }\n",
       "\n",
       "    .dataframe tbody tr th {\n",
       "        vertical-align: top;\n",
       "    }\n",
       "\n",
       "    .dataframe thead th {\n",
       "        text-align: right;\n",
       "    }\n",
       "</style>\n",
       "<table border=\"1\" class=\"dataframe\">\n",
       "  <thead>\n",
       "    <tr style=\"text-align: right;\">\n",
       "      <th></th>\n",
       "      <th>al</th>\n",
       "      <th>su</th>\n",
       "      <th>hemo</th>\n",
       "      <th>pe_no</th>\n",
       "    </tr>\n",
       "  </thead>\n",
       "  <tbody>\n",
       "    <tr>\n",
       "      <th>0</th>\n",
       "      <td>4.0</td>\n",
       "      <td>0.0</td>\n",
       "      <td>11.2</td>\n",
       "      <td>0</td>\n",
       "    </tr>\n",
       "    <tr>\n",
       "      <th>1</th>\n",
       "      <td>3.0</td>\n",
       "      <td>0.0</td>\n",
       "      <td>12.2</td>\n",
       "      <td>0</td>\n",
       "    </tr>\n",
       "    <tr>\n",
       "      <th>2</th>\n",
       "      <td>2.0</td>\n",
       "      <td>0.0</td>\n",
       "      <td>9.5</td>\n",
       "      <td>1</td>\n",
       "    </tr>\n",
       "    <tr>\n",
       "      <th>3</th>\n",
       "      <td>3.0</td>\n",
       "      <td>0.0</td>\n",
       "      <td>10.8</td>\n",
       "      <td>0</td>\n",
       "    </tr>\n",
       "    <tr>\n",
       "      <th>4</th>\n",
       "      <td>3.0</td>\n",
       "      <td>1.0</td>\n",
       "      <td>9.7</td>\n",
       "      <td>0</td>\n",
       "    </tr>\n",
       "  </tbody>\n",
       "</table>\n",
       "</div>"
      ],
      "text/plain": [
       "    al   su  hemo  pe_no\n",
       "0  4.0  0.0  11.2      0\n",
       "1  3.0  0.0  12.2      0\n",
       "2  2.0  0.0   9.5      1\n",
       "3  3.0  0.0  10.8      0\n",
       "4  3.0  1.0   9.7      0"
      ]
     },
     "execution_count": 18,
     "metadata": {},
     "output_type": "execute_result"
    }
   ],
   "source": [
    "df_clt[df_clt_result.loc[0, \"Features\"]].head(5)"
   ]
  },
  {
   "cell_type": "code",
   "execution_count": 21,
   "id": "5ad5adf4",
   "metadata": {},
   "outputs": [],
   "source": [
    "all_top_features = []\n",
    "for feat in df_clt_result[\"Features\"].iloc[:5].to_list():\n",
    "    all_top_features += feat\n",
    "all_top_features_arr = np.array(all_top_features)"
   ]
  },
  {
   "cell_type": "code",
   "execution_count": 27,
   "id": "median-judge",
   "metadata": {},
   "outputs": [
    {
     "data": {
      "text/plain": [
       "{'hemo': 9,\n",
       " 'rbc_normal': 5,\n",
       " 'su': 3,\n",
       " 'appet_nan': 3,\n",
       " 'rc': 3,\n",
       " 'pcc_notpresent': 2,\n",
       " 'ane_no': 2,\n",
       " 'pe_no': 2,\n",
       " 'sc': 2,\n",
       " 'cad_no': 1,\n",
       " 'rbc_nan': 1,\n",
       " 'pot': 1,\n",
       " 'ba_notpresent': 1,\n",
       " 'pc_nan': 1,\n",
       " 'htn_yes': 1,\n",
       " 'dm_nan': 1,\n",
       " 'al': 1}"
      ]
     },
     "execution_count": 27,
     "metadata": {},
     "output_type": "execute_result"
    }
   ],
   "source": [
    "top_features = {col: np.sum(all_top_features_arr==col) for col in set(all_top_features)}\n",
    "top_features = {k: v for k, v in sorted(top_features.items(), key=lambda item: item[1], reverse=True)}\n",
    "top_features"
   ]
  },
  {
   "cell_type": "code",
   "execution_count": null,
   "id": "choice-window",
   "metadata": {},
   "outputs": [],
   "source": []
  },
  {
   "cell_type": "markdown",
   "id": "eaa35e56",
   "metadata": {},
   "source": [
    "## Manifold"
   ]
  },
  {
   "cell_type": "code",
   "execution_count": 10,
   "id": "383a2baf",
   "metadata": {},
   "outputs": [],
   "source": [
    "df_man = df.copy()"
   ]
  },
  {
   "cell_type": "code",
   "execution_count": 11,
   "id": "0cb6fe05",
   "metadata": {},
   "outputs": [
    {
     "name": "stdout",
     "output_type": "stream",
     "text": [
      "Number of columns 28\n"
     ]
    }
   ],
   "source": [
    "columns_to_manifold = [\n",
    "    'age', 'bp', 'sg', 'al', 'su', 'bgr',\n",
    "    'bu', 'sc', 'sod', 'pot', 'hemo', 'pcv', 'wc', 'rc',\n",
    "    'rbc_nan', 'rbc_normal',\n",
    "    'pc_nan', 'pc_normal', 'pcc_notpresent', 'ba_notpresent', 'htn_yes',\n",
    "    'dm_nan', 'dm_yes', 'cad_no', 'appet_nan', 'appet_good', 'pe_no',\n",
    "    'ane_no'\n",
    "]\n",
    "\n",
    "print(\"Number of columns\", len(columns_to_manifold))"
   ]
  },
  {
   "cell_type": "code",
   "execution_count": 12,
   "id": "7114e815",
   "metadata": {},
   "outputs": [
    {
     "name": "stdout",
     "output_type": "stream",
     "text": [
      "Shape of the data (201, 55)\n"
     ]
    }
   ],
   "source": [
    "index_man_nona = df_man[columns_to_manifold].dropna().index\n",
    "df_man_nona = df_man.loc[index_man_nona].reset_index(drop=True)\n",
    "\n",
    "print(\"Shape of the data\", df_man_nona.shape)"
   ]
  },
  {
   "cell_type": "code",
   "execution_count": 13,
   "id": "d03cc82d",
   "metadata": {},
   "outputs": [],
   "source": [
    "pca = PCA(n_components=2, random_state=seed_th)\n",
    "pca_array = pca.fit_transform(df_man_nona[columns_to_manifold])\n",
    "\n",
    "df_man_pca = pd.DataFrame(pca_array)\n",
    "df_man_pca[\"Target\"] = df_man_nona[\"classification\"]"
   ]
  },
  {
   "cell_type": "code",
   "execution_count": 14,
   "id": "fc8f5111",
   "metadata": {},
   "outputs": [
    {
     "data": {
      "image/png": "[encoded data removed]",
      "text/plain": [
       "<Figure size 1080x432 with 1 Axes>"
      ]
     },
     "metadata": {
      "needs_background": "light"
     },
     "output_type": "display_data"
    }
   ],
   "source": [
    "plt.figure(figsize=(15, 6))\n",
    "\n",
    "for g, df_g in df_man_pca.groupby(\"Target\"):\n",
    "\n",
    "    plt.scatter(df_g[0], df_g[1], alpha=0.5)\n",
    "\n",
    "plt.ylabel(\"Component 2\", fontsize=14)\n",
    "plt.xlabel(\"Component 1\", fontsize=14)\n",
    "    \n",
    "plt.show()"
   ]
  },
  {
   "cell_type": "code",
   "execution_count": null,
   "id": "86d8b96f",
   "metadata": {},
   "outputs": [],
   "source": []
  }
 ],
 "metadata": {
  "kernelspec": {
   "display_name": "Python 3",
   "language": "python",
   "name": "python3"
  },
  "language_info": {
   "codemirror_mode": {
    "name": "ipython",
    "version": 3
   },
   "file_extension": ".py",
   "mimetype": "text/x-python",
   "name": "python",
   "nbconvert_exporter": "python",
   "pygments_lexer": "ipython3",
   "version": "3.8.7"
  }
 },
 "nbformat": 4,
 "nbformat_minor": 5
}
